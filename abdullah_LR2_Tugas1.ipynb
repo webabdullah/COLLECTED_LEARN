{
  "nbformat": 4,
  "nbformat_minor": 0,
  "metadata": {
    "colab": {
      "name": "abdullah_LR2_Tugas1.ipynb",
      "provenance": [],
      "include_colab_link": true
    },
    "kernelspec": {
      "name": "python3",
      "display_name": "Python 3"
    },
    "language_info": {
      "name": "python"
    }
  },
  "cells": [
    {
      "cell_type": "markdown",
      "metadata": {
        "id": "view-in-github",
        "colab_type": "text"
      },
      "source": [
        "<a href=\"https://colab.research.google.com/github/webabdullah/COLLECTED_LEARN/blob/main/abdullah_LR2_Tugas1.ipynb\" target=\"_parent\"><img src=\"https://colab.research.google.com/assets/colab-badge.svg\" alt=\"Open In Colab\"/></a>"
      ]
    },
    {
      "cell_type": "code",
      "metadata": {
        "id": "sEKLrkHTsisy"
      },
      "source": [
        "import numpy as np \n",
        "import pandas as pd \n",
        "import matplotlib.pyplot as plt "
      ],
      "execution_count": 3,
      "outputs": []
    },
    {
      "cell_type": "code",
      "metadata": {
        "id": "UA2jMq6TsmuV"
      },
      "source": [
        "#-----import dataset \n",
        "dataset = pd.read_excel('consumption.xlsx') "
      ],
      "execution_count": 4,
      "outputs": []
    },
    {
      "cell_type": "code",
      "metadata": {
        "colab": {
          "base_uri": "https://localhost:8080/",
          "height": 204
        },
        "id": "vLP8C9yhs1jV",
        "outputId": "6b8dd296-a271-4679-a5a5-9bd6cbcf1949"
      },
      "source": [
        "#-----cetak data sample 5 data \n",
        "dataset.head() "
      ],
      "execution_count": null,
      "outputs": [
        {
          "output_type": "execute_result",
          "data": {
            "text/html": [
              "<div>\n",
              "<style scoped>\n",
              "    .dataframe tbody tr th:only-of-type {\n",
              "        vertical-align: middle;\n",
              "    }\n",
              "\n",
              "    .dataframe tbody tr th {\n",
              "        vertical-align: top;\n",
              "    }\n",
              "\n",
              "    .dataframe thead th {\n",
              "        text-align: right;\n",
              "    }\n",
              "</style>\n",
              "<table border=\"1\" class=\"dataframe\">\n",
              "  <thead>\n",
              "    <tr style=\"text-align: right;\">\n",
              "      <th></th>\n",
              "      <th>ID</th>\n",
              "      <th>Income</th>\n",
              "      <th>Consumtion</th>\n",
              "    </tr>\n",
              "  </thead>\n",
              "  <tbody>\n",
              "    <tr>\n",
              "      <th>0</th>\n",
              "      <td>1</td>\n",
              "      <td>119</td>\n",
              "      <td>154</td>\n",
              "    </tr>\n",
              "    <tr>\n",
              "      <th>1</th>\n",
              "      <td>2</td>\n",
              "      <td>85</td>\n",
              "      <td>123</td>\n",
              "    </tr>\n",
              "    <tr>\n",
              "      <th>2</th>\n",
              "      <td>3</td>\n",
              "      <td>97</td>\n",
              "      <td>125</td>\n",
              "    </tr>\n",
              "    <tr>\n",
              "      <th>3</th>\n",
              "      <td>4</td>\n",
              "      <td>95</td>\n",
              "      <td>130</td>\n",
              "    </tr>\n",
              "    <tr>\n",
              "      <th>4</th>\n",
              "      <td>5</td>\n",
              "      <td>120</td>\n",
              "      <td>51</td>\n",
              "    </tr>\n",
              "  </tbody>\n",
              "</table>\n",
              "</div>"
            ],
            "text/plain": [
              "   ID  Income  Consumtion\n",
              "0   1     119         154\n",
              "1   2      85         123\n",
              "2   3      97         125\n",
              "3   4      95         130\n",
              "4   5     120          51"
            ]
          },
          "metadata": {
            "tags": []
          },
          "execution_count": 5
        }
      ]
    },
    {
      "cell_type": "code",
      "metadata": {
        "colab": {
          "base_uri": "https://localhost:8080/"
        },
        "id": "up3qk1jRs-0d",
        "outputId": "f4449dd8-5939-43bd-c270-ca0c758088f6"
      },
      "source": [
        "#--------- cetak semua data \n",
        "print(dataset) \n"
      ],
      "execution_count": 7,
      "outputs": [
        {
          "output_type": "stream",
          "text": [
            "    ID  Income  Consumtion\n",
            "0    1     119         154\n",
            "1    2      85         123\n",
            "2    3      97         125\n",
            "3    4      95         130\n",
            "4    5     120          51\n",
            "5    6      92         131\n",
            "6    7     105         141\n",
            "7    8     110         141\n",
            "8    9      98         130\n",
            "9   10      98         134\n",
            "10  11      81         115\n",
            "11  12      81         117\n",
            "12  13      91         123\n",
            "13  14     105         144\n",
            "14  15     100         137\n",
            "15  16     107         140\n",
            "16  17      82         123\n",
            "17  18      84         115\n",
            "18  19     100         134\n",
            "19  20     108         147\n",
            "20  21     116         144\n",
            "21  22     115         144\n",
            "22  23      93         126\n",
            "23  24     105         141\n",
            "24  25      89         124\n",
            "25  26     104         144\n",
            "26  27     108         144\n",
            "27  28      88         129\n",
            "28  29     109         137\n",
            "29  30     112         144\n",
            "30  31      96         132\n",
            "31  32      89         125\n",
            "32  33      93         126\n",
            "33  34     114         140\n",
            "34  35      81         120\n",
            "35  36      84         118\n",
            "36  37      88         119\n",
            "37  38      96         131\n",
            "38  39      82         127\n",
            "39  40     114         150\n"
          ],
          "name": "stdout"
        }
      ]
    },
    {
      "cell_type": "code",
      "metadata": {
        "id": "tHQFGPLQtBmt"
      },
      "source": [
        "#------split menjadi data dan target (variable independent dan variable dependent) \n",
        "data = dataset.loc[:,['Income', 'Consumtion']] \n",
        "data \n",
        "X = data.iloc[:, :-1].values #Income \n",
        "y = data.iloc[:, 1].values #Consumtion "
      ],
      "execution_count": 8,
      "outputs": []
    },
    {
      "cell_type": "code",
      "metadata": {
        "colab": {
          "base_uri": "https://localhost:8080/"
        },
        "id": "F3pk3YwMtG_N",
        "outputId": "e62c7b3a-6a0a-4a4a-9db7-83af6a169321"
      },
      "source": [
        "#------cetak data Income \n",
        "print(X)"
      ],
      "execution_count": 9,
      "outputs": [
        {
          "output_type": "stream",
          "text": [
            "[[119]\n",
            " [ 85]\n",
            " [ 97]\n",
            " [ 95]\n",
            " [120]\n",
            " [ 92]\n",
            " [105]\n",
            " [110]\n",
            " [ 98]\n",
            " [ 98]\n",
            " [ 81]\n",
            " [ 81]\n",
            " [ 91]\n",
            " [105]\n",
            " [100]\n",
            " [107]\n",
            " [ 82]\n",
            " [ 84]\n",
            " [100]\n",
            " [108]\n",
            " [116]\n",
            " [115]\n",
            " [ 93]\n",
            " [105]\n",
            " [ 89]\n",
            " [104]\n",
            " [108]\n",
            " [ 88]\n",
            " [109]\n",
            " [112]\n",
            " [ 96]\n",
            " [ 89]\n",
            " [ 93]\n",
            " [114]\n",
            " [ 81]\n",
            " [ 84]\n",
            " [ 88]\n",
            " [ 96]\n",
            " [ 82]\n",
            " [114]]\n"
          ],
          "name": "stdout"
        }
      ]
    },
    {
      "cell_type": "code",
      "metadata": {
        "colab": {
          "base_uri": "https://localhost:8080/"
        },
        "id": "-yZ-4B7ttITd",
        "outputId": "a3b096fd-9704-4af0-f038-5c1afb7c5e95"
      },
      "source": [
        "#----cetak data Consumtion \n",
        "print(y)"
      ],
      "execution_count": 10,
      "outputs": [
        {
          "output_type": "stream",
          "text": [
            "[154 123 125 130  51 131 141 141 130 134 115 117 123 144 137 140 123 115\n",
            " 134 147 144 144 126 141 124 144 144 129 137 144 132 125 126 140 120 118\n",
            " 119 131 127 150]\n"
          ],
          "name": "stdout"
        }
      ]
    },
    {
      "cell_type": "code",
      "metadata": {
        "id": "Pk7TkuPLtO31"
      },
      "source": [
        "#-----Split dataset kea Training set and Test set \n",
        "from sklearn.model_selection import train_test_split \n",
        "X_train, X_test, y_train, y_test = train_test_split(X, y, test_size = 1 /3, random_state = 0) "
      ],
      "execution_count": 11,
      "outputs": []
    },
    {
      "cell_type": "code",
      "metadata": {
        "colab": {
          "base_uri": "https://localhost:8080/"
        },
        "id": "ioz_r5-7tR7N",
        "outputId": "216232de-65d6-4051-cad1-4d57233f6078"
      },
      "source": [
        "#-----Proses training dan fit \n",
        "from sklearn.linear_model import LinearRegression \n",
        "regressor = LinearRegression() \n",
        "regressor.fit(X_train, y_train)\n"
      ],
      "execution_count": 12,
      "outputs": [
        {
          "output_type": "execute_result",
          "data": {
            "text/plain": [
              "LinearRegression(copy_X=True, fit_intercept=True, n_jobs=None, normalize=False)"
            ]
          },
          "metadata": {
            "tags": []
          },
          "execution_count": 12
        }
      ]
    },
    {
      "cell_type": "code",
      "metadata": {
        "id": "3d5lKeoYtUiF"
      },
      "source": [
        "#----prediksi \n",
        "pred = regressor.predict(X_test)\n"
      ],
      "execution_count": 13,
      "outputs": []
    },
    {
      "cell_type": "code",
      "metadata": {
        "colab": {
          "base_uri": "https://localhost:8080/"
        },
        "id": "5h9b7tR6tV_V",
        "outputId": "ea00db48-6006-4ea0-96e9-7302601e9308"
      },
      "source": [
        "#------mengetahui nilai variable-variabel di rumus linear regression regressor.score(X,y) \n",
        "regressor.coef_ \n",
        "regressor.intercept_ "
      ],
      "execution_count": 14,
      "outputs": [
        {
          "output_type": "execute_result",
          "data": {
            "text/plain": [
              "48.817392728463844"
            ]
          },
          "metadata": {
            "tags": []
          },
          "execution_count": 14
        }
      ]
    },
    {
      "cell_type": "code",
      "metadata": {
        "colab": {
          "base_uri": "https://localhost:8080/",
          "height": 282
        },
        "id": "rIyIrbPbtcHN",
        "outputId": "7004623b-1e54-49d8-de83-02156706d736"
      },
      "source": [
        "#------visualisasi hasil training \n",
        "plt.scatter(X_train, y_train, color = 'red') \n",
        "plt.plot(X_train, regressor.predict(X_train), color = 'blue')"
      ],
      "execution_count": 15,
      "outputs": [
        {
          "output_type": "execute_result",
          "data": {
            "text/plain": [
              "[<matplotlib.lines.Line2D at 0x7f3b346a4f90>]"
            ]
          },
          "metadata": {
            "tags": []
          },
          "execution_count": 15
        },
        {
          "output_type": "display_data",
          "data": {
            "image/png": "[encoded data removed]",
            "text/plain": [
              "<Figure size 432x288 with 1 Axes>"
            ]
          },
          "metadata": {
            "tags": [],
            "needs_background": "light"
          }
        }
      ]
    },
    {
      "cell_type": "code",
      "metadata": {
        "colab": {
          "base_uri": "https://localhost:8080/",
          "height": 295
        },
        "id": "sZyN6bdvtfee",
        "outputId": "3d3b308a-a0cd-4c2c-cb40-8a29834413cc"
      },
      "source": [
        "#------visualisasi hasil test prediksi \n",
        "plt.scatter(X_test, y_test, color = 'red') \n",
        "plt.plot(X_train, regressor.predict(X_train), color = 'blue')\n",
        "plt.title('Income vs Consumption (Test set)') \n",
        "plt.xlabel('Consumtion') \n",
        "plt.ylabel('Income') \n",
        "plt.show()\n"
      ],
      "execution_count": 16,
      "outputs": [
        {
          "output_type": "display_data",
          "data": {
            "image/png": "[encoded data removed]",
            "text/plain": [
              "<Figure size 432x288 with 1 Axes>"
            ]
          },
          "metadata": {
            "tags": [],
            "needs_background": "light"
          }
        }
      ]
    },
    {
      "cell_type": "code",
      "metadata": {
        "colab": {
          "base_uri": "https://localhost:8080/"
        },
        "id": "KsyFm-Tutk-V",
        "outputId": "05646a09-c401-4031-f99c-88e908685011"
      },
      "source": [
        "# evaluasi R-Squared, mendekati 1 lebih baik \n",
        "from sklearn.metrics import r2_score \n",
        "r2_score(y_test, pred)"
      ],
      "execution_count": 17,
      "outputs": [
        {
          "output_type": "execute_result",
          "data": {
            "text/plain": [
              "-0.43900396610644465"
            ]
          },
          "metadata": {
            "tags": []
          },
          "execution_count": 17
        }
      ]
    },
    {
      "cell_type": "code",
      "metadata": {
        "colab": {
          "base_uri": "https://localhost:8080/"
        },
        "id": "1Y4o1HNMtnr_",
        "outputId": "a2fd71d9-8926-4a55-b823-8ef54fb05f92"
      },
      "source": [
        "# evaluasi MSE (mean squared error, semakin kecil semakin baik \n",
        "from sklearn.metrics import mean_squared_error \n",
        "mean_squared_error(y_test, pred) "
      ],
      "execution_count": 18,
      "outputs": [
        {
          "output_type": "execute_result",
          "data": {
            "text/plain": [
              "747.5845859632079"
            ]
          },
          "metadata": {
            "tags": []
          },
          "execution_count": 18
        }
      ]
    },
    {
      "cell_type": "code",
      "metadata": {
        "colab": {
          "base_uri": "https://localhost:8080/"
        },
        "id": "mwSoWZsktqV-",
        "outputId": "411480f7-cea0-47cf-ed15-e796a8c3dbf9"
      },
      "source": [
        "# evaluasi RMSE, nilai error rata-rata asli \n",
        "from math import sqrt \n",
        "rmse = sqrt(mean_squared_error(y_test, pred)) \n",
        "rmse"
      ],
      "execution_count": 19,
      "outputs": [
        {
          "output_type": "execute_result",
          "data": {
            "text/plain": [
              "27.341993086883917"
            ]
          },
          "metadata": {
            "tags": []
          },
          "execution_count": 19
        }
      ]
    }
  ]
}